{
 "cells": [
  {
   "cell_type": "markdown",
   "metadata": {},
   "source": [
    "1.What are the two values of the Boolean data type? How do you write them?"
   ]
  },
  {
   "cell_type": "markdown",
   "metadata": {},
   "source": [
    "Ans:- Two values of boolean data types are TRUE and FALSE.We write them either true or false"
   ]
  },
  {
   "cell_type": "markdown",
   "metadata": {},
   "source": [
    "2. What are the three different types of Boolean operators\n",
    "\n",
    "Ans. Three different type of boolean operators are given below\n",
    "    1. AND\n",
    "    2. OR\n",
    "    3. NOT"
   ]
  },
  {
   "cell_type": "markdown",
   "metadata": {},
   "source": [
    "3. Make a list of each Boolean operator's truth tables (i.e. every possible combination of Boolean values for the operator and what it evaluate ).\n",
    "\n",
    "Ans:-\n",
    "Table for AND operator\n",
    " 0 and 0 = 0 ,\n",
    " 0 and = 0 ,\n",
    " 1 and 0 = 0 ,\n",
    " 1 and 1 = 1 .\n",
    " \n",
    "Table for OR operator\n",
    "0 or 0 = 0 ,\n",
    "0 or 1 = 1 ,\n",
    "1 or 0 = 1 ,\n",
    "1 or 1 = 1.\n",
    "\n",
    "Table for NOT operator\n",
    "1 = 0 ,\n",
    "0 = 1\n",
    " \n",
    " "
   ]
  },
  {
   "cell_type": "markdown",
   "metadata": {},
   "source": [
    "4. What are the values of the following expressions?\n",
    "\n",
    "Ans:-\n",
    "(5 > 4) and (3 == 5) :\n",
    "False .\n",
    "not (5 > 4):\n",
    "False ,\n",
    "(5 > 4) or (3 == 5):\n",
    "True ,\n",
    "not ((5 > 4) or (3 == 5)):\n",
    "False ,\n",
    "(True and True) and (True == False):\n",
    "False  ,\n",
    "(not False) or (not True):\n",
    "True  ."
   ]
  },
  {
   "cell_type": "markdown",
   "metadata": {},
   "source": [
    "5. What are the six comparison operators?\n",
    "\n",
    "Ans:-Six comparison operators are as given below\n",
    "1. less than.(<).\n",
    "2. Greater than(>).\n",
    "3. Less than or equal to(=<).\n",
    "4. Greater thsn or equal to (=>) . \n",
    "5. Eqaul Equal to (==) .\n",
    "5 Not equal to(!=)"
   ]
  },
  {
   "cell_type": "markdown",
   "metadata": {},
   "source": [
    "6. How do you tell the difference between the equal to and assignment operators?Describe a condition and when you would use one.\n",
    "\n",
    "Ans.The “=” is an assignment operator is used to assign the value on the right to the variable on the left. The '==' operator checks whether the two given operands are equal or not. If so, it returns true. Otherwise it returns false"
   ]
  },
  {
   "cell_type": "markdown",
   "metadata": {},
   "source": [
    "7. Identify the three blocks in this code:\n",
    "\n",
    "Ans:-BLOCK 1\n",
    "spam = 0\n",
    "if spam == 10:\n",
    "print('eggs')\n",
    "\n",
    "\n",
    "BLOCK 2\n",
    "if spam > 5:\n",
    "print('bacon')\n",
    "\n",
    "\n",
    "BLOCK 3\n",
    "else:\n",
    "print('ham')\n",
    "print('spam')\n",
    "print('spam')\n",
    "\n"
   ]
  },
  {
   "cell_type": "markdown",
   "metadata": {},
   "source": [
    "8. Write code that prints Hello if 1 is stored in spam, prints Howdy if 2 is stored in spam, and prints Greetings! if anything else is stored in spam\n",
    "\n",
    "ANS:- \n",
    "spam = input(\"Enter the number: \")\n",
    "\n",
    "if spam == 1 :\n",
    "    print(\"spam\")\n",
    "elif spam == 2 :\n",
    "    print(\"Howdy\")\n",
    "else:\n",
    "    print(\"Greetings\")"
   ]
  },
  {
   "cell_type": "code",
   "execution_count": null,
   "metadata": {},
   "outputs": [],
   "source": []
  }
 ],
 "metadata": {
  "kernelspec": {
   "display_name": "Python 3",
   "language": "python",
   "name": "python3"
  },
  "language_info": {
   "codemirror_mode": {
    "name": "ipython",
    "version": 3
   },
   "file_extension": ".py",
   "mimetype": "text/x-python",
   "name": "python",
   "nbconvert_exporter": "python",
   "pygments_lexer": "ipython3",
   "version": "3.8.5"
  }
 },
 "nbformat": 4,
 "nbformat_minor": 4
}
