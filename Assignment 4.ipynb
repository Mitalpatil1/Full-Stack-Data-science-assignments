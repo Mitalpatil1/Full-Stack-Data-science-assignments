{
 "cells": [
  {
   "cell_type": "raw",
   "metadata": {},
   "source": [
    "1. What exactly is []?\n",
    "Ans:- It is used for the list"
   ]
  },
  {
   "cell_type": "raw",
   "metadata": {},
   "source": [
    "2. In a list of values stored in a variable called spam, how would you assign the value 'hello' as the third value? (Assume [2, 4, 6, 8, 10] are in spam.)\n",
    "Let's pretend the spam includes the list ['a', 'b', 'c', 'd'] for the next three queries.\n",
    "\n",
    "Ans:- spam[2]=Hello"
   ]
  },
  {
   "cell_type": "raw",
   "metadata": {},
   "source": [
    "3. What is the value of spam[int(int('3' * 2) / 11)]?\n",
    "\n",
    "Ans:- "
   ]
  },
  {
   "cell_type": "raw",
   "metadata": {},
   "source": [
    "4. What is the value of spam[-1]?\n",
    "\n",
    "Ans:-d"
   ]
  },
  {
   "cell_type": "raw",
   "metadata": {},
   "source": [
    "5. What is the value of spam[:2]?\n",
    "Let's pretend bacon has the list [3.14, 'cat,' 11, 'cat,' True] for the next three questions.\n",
    "\n",
    "Ans:- [3.14,cat]"
   ]
  },
  {
   "cell_type": "raw",
   "metadata": {},
   "source": [
    "6. What is the value of bacon.index('cat')?\n",
    "\n",
    "Ans:-1 "
   ]
  },
  {
   "cell_type": "raw",
   "metadata": {},
   "source": [
    "7. How does bacon.append(99) change the look of the list value in bacon?\n",
    "\n",
    "Ans:- [3.14, 'cat', 11, 'cat', True, 99]"
   ]
  },
  {
   "cell_type": "raw",
   "metadata": {},
   "source": [
    "8. How does bacon.remove('cat') change the look of the list in bacon?\n",
    "\n",
    "Ans:- [3.14, 11, 'cat', True, 99]"
   ]
  },
  {
   "cell_type": "raw",
   "metadata": {},
   "source": [
    "9. What are the list concatenation and list replication operators?\n",
    "\n",
    "Ans:- For list concatenation operator is \"+\"\n",
    "      For list replication operator is \"*\""
   ]
  },
  {
   "cell_type": "raw",
   "metadata": {},
   "source": [
    "10. What is difference between the list methods append() and insert()?\n",
    "\n",
    "Ans:insert() can add values anywhere in the list, append() will add values only to the end of a list"
   ]
  },
  {
   "cell_type": "raw",
   "metadata": {},
   "source": [
    "11. What are the two methods for removing items from a list?\n",
    "\n",
    "Ans:-1:- .remove() & .pop() this are the two methods to remove items from the list."
   ]
  },
  {
   "cell_type": "raw",
   "metadata": {},
   "source": [
    "12. Describe how list values and string values are identical.\n",
    "\n",
    "Ans:-Following are the reasons by which list values and string values are identical:-\n",
    "1.Can concatenate both.\n",
    "2.Slicing operation can be done in both.\n",
    "3.both have indexes.\n",
    "4.Loops can be used in both.\n",
    "    "
   ]
  },
  {
   "cell_type": "raw",
   "metadata": {},
   "source": [
    "13. What's the difference between tuples and lists?\n",
    "\n",
    "Ans:-List is mutable entity while tuple is immutable entity"
   ]
  },
  {
   "cell_type": "raw",
   "metadata": {},
   "source": [
    "14. How do you type a tuple value that only contains the integer 42?\n",
    "\n",
    "Ans:- t=(42,)"
   ]
  },
  {
   "cell_type": "raw",
   "metadata": {},
   "source": [
    "15. How do you get a list value's tuple form? How do you get a tuple value's list form?\n",
    "\n",
    "Ans:- list=[tuple]\n",
    "tuple=(list)"
   ]
  },
  {
   "cell_type": "raw",
   "metadata": {},
   "source": [
    "16. Variables that \"contain\" list values are not necessarily lists themselves. Instead, what do they contain?\n",
    "\n",
    "Ans:-References"
   ]
  },
  {
   "cell_type": "raw",
   "metadata": {},
   "source": [
    "17:-How do you distinguish between copy.copy() and copy.deepcopy()?\n",
    "\n",
    "Ans:-A shallow copy constructs a new compound object and then (to the extent possible) inserts references into it to the objects found in the original. A deep copy constructs a new compound object and then, recursively, inserts copies into it of the objects found in the original."
   ]
  }
 ],
 "metadata": {
  "kernelspec": {
   "display_name": "Python 3",
   "language": "python",
   "name": "python3"
  },
  "language_info": {
   "codemirror_mode": {
    "name": "ipython",
    "version": 3
   },
   "file_extension": ".py",
   "mimetype": "text/x-python",
   "name": "python",
   "nbconvert_exporter": "python",
   "pygments_lexer": "ipython3",
   "version": "3.8.5"
  }
 },
 "nbformat": 4,
 "nbformat_minor": 4
}
